{
 "cells": [
  {
   "cell_type": "markdown",
   "metadata": {},
   "source": [
    "# Initialize"
   ]
  },
  {
   "cell_type": "code",
   "execution_count": 27,
   "metadata": {},
   "outputs": [],
   "source": [
    "import pandas as pd\n",
    "import numpy as np\n",
    "import os\n",
    "from sklearn.preprocessing import MinMaxScaler\n",
    "\n",
    "path = '/home/chiweilo/Desktop/Project/Second/extractingData/'\n",
    "path2 = '/home/chiweilo/Desktop/Project/Second/normalizingData/'\n",
    "if not os.path.exists(path2):\n",
    "    os.makedirs(path2)"
   ]
  },
  {
   "cell_type": "markdown",
   "metadata": {},
   "source": [
    "# Normalize Trainning Data"
   ]
  },
  {
   "cell_type": "code",
   "execution_count": 28,
   "metadata": {},
   "outputs": [
    {
     "name": "stdout",
     "output_type": "stream",
     "text": [
      "   Monday  Tuesday  Wednesday  Thursday  Friday  Saturday  Sunday   d_time  \\\n",
      "0       0        0          0         0       0         1       0  40236.0   \n",
      "1       0        0          0         0       0         1       0  44161.0   \n",
      "2       0        0          0         0       0         1       0  85885.0   \n",
      "3       0        0          0         0       0         1       0  49374.0   \n",
      "4       0        0          0         0       0         1       0  59837.0   \n",
      "\n",
      "      o_x    o_y     ...      p57  p58  p59  p60  p61  p62  p63  p64  p65  \\\n",
      "0  116.58  40.08     ...      0.0  0.0  0.0  0.0  0.0  0.0  0.0  0.0  0.0   \n",
      "1  116.32  39.89     ...      0.0  0.0  0.0  0.0  1.0  0.0  0.0  0.0  0.0   \n",
      "2  116.44  39.88     ...      0.0  0.0  0.0  1.0  0.0  0.0  0.0  0.0  0.0   \n",
      "3  116.29  40.07     ...      0.0  0.0  0.0  0.0  0.0  0.0  0.0  0.0  0.0   \n",
      "4  116.17  39.92     ...      0.0  0.0  0.0  1.0  0.0  0.0  0.0  0.0  0.0   \n",
      "\n",
      "   click_mode  \n",
      "0           1  \n",
      "1           2  \n",
      "2           1  \n",
      "3           9  \n",
      "4           1  \n",
      "\n",
      "[5 rows x 123 columns]\n",
      "(453336, 123)\n"
     ]
    }
   ],
   "source": [
    "#Loading train_extract.csv Data\n",
    "extractTrainningData = pd.read_csv(path+'train_extract.csv',encoding = 'utf8')\n",
    "print (extractTrainningData.head())\n",
    "print (extractTrainningData.shape)"
   ]
  },
  {
   "cell_type": "markdown",
   "metadata": {},
   "source": [
    "## d_time Normalize"
   ]
  },
  {
   "cell_type": "code",
   "execution_count": 29,
   "metadata": {},
   "outputs": [
    {
     "name": "stdout",
     "output_type": "stream",
     "text": [
      "[86396.]\n",
      "[0.]\n"
     ]
    }
   ],
   "source": [
    "tempData = extractTrainningData['d_time'].values.reshape(-1,1)\n",
    "d_time_min_max_scaler = MinMaxScaler()\n",
    "tempDataScaled = d_time_min_max_scaler.fit_transform(tempData)\n",
    "extractTrainningData['d_time'] = tempDataScaled\n",
    "print(d_time_min_max_scaler.data_max_)\n",
    "print(d_time_min_max_scaler.data_min_)"
   ]
  },
  {
   "cell_type": "markdown",
   "metadata": {},
   "source": [
    "## o_x Normalize"
   ]
  },
  {
   "cell_type": "code",
   "execution_count": 30,
   "metadata": {},
   "outputs": [
    {
     "name": "stdout",
     "output_type": "stream",
     "text": [
      "[117.29]\n",
      "[115.47]\n"
     ]
    }
   ],
   "source": [
    "tempData = extractTrainningData['o_x'].values.reshape(-1,1)\n",
    "o_x_min_max_scaler = MinMaxScaler()\n",
    "tempDataScaled = o_x_min_max_scaler.fit_transform(tempData)\n",
    "extractTrainningData['o_x'] = tempDataScaled\n",
    "print(o_x_min_max_scaler.data_max_)\n",
    "print(o_x_min_max_scaler.data_min_)"
   ]
  },
  {
   "cell_type": "markdown",
   "metadata": {},
   "source": [
    "## o_y Normalize"
   ]
  },
  {
   "cell_type": "code",
   "execution_count": 31,
   "metadata": {},
   "outputs": [
    {
     "name": "stdout",
     "output_type": "stream",
     "text": [
      "[40.97]\n",
      "[39.46]\n"
     ]
    }
   ],
   "source": [
    "tempData = extractTrainningData['o_y'].values.reshape(-1,1)\n",
    "o_y_min_max_scaler = MinMaxScaler()\n",
    "tempDataScaled = o_y_min_max_scaler.fit_transform(tempData)\n",
    "extractTrainningData['o_y'] = tempDataScaled\n",
    "print(o_y_min_max_scaler.data_max_)\n",
    "print(o_y_min_max_scaler.data_min_)"
   ]
  },
  {
   "cell_type": "markdown",
   "metadata": {},
   "source": [
    "## d_x Normalize"
   ]
  },
  {
   "cell_type": "code",
   "execution_count": 32,
   "metadata": {},
   "outputs": [
    {
     "name": "stdout",
     "output_type": "stream",
     "text": [
      "[117.33]\n",
      "[115.48]\n"
     ]
    }
   ],
   "source": [
    "tempData = extractTrainningData['d_x'].values.reshape(-1,1)\n",
    "d_x_min_max_scaler = MinMaxScaler()\n",
    "tempDataScaled = d_x_min_max_scaler.fit_transform(tempData)\n",
    "extractTrainningData['d_x'] = tempDataScaled\n",
    "print(d_x_min_max_scaler.data_max_)\n",
    "print(d_x_min_max_scaler.data_min_)"
   ]
  },
  {
   "cell_type": "markdown",
   "metadata": {},
   "source": [
    "## d_y Normalize"
   ]
  },
  {
   "cell_type": "code",
   "execution_count": 33,
   "metadata": {},
   "outputs": [
    {
     "name": "stdout",
     "output_type": "stream",
     "text": [
      "[40.96]\n",
      "[39.46]\n"
     ]
    }
   ],
   "source": [
    "tempData = extractTrainningData['d_y'].values.reshape(-1,1)\n",
    "d_y_min_max_scaler = MinMaxScaler()\n",
    "tempDataScaled = d_y_min_max_scaler.fit_transform(tempData)\n",
    "extractTrainningData['d_y'] = tempDataScaled\n",
    "print(d_y_min_max_scaler.data_max_)\n",
    "print(d_y_min_max_scaler.data_min_)"
   ]
  },
  {
   "cell_type": "markdown",
   "metadata": {},
   "source": [
    "## plan Normalize"
   ]
  },
  {
   "cell_type": "code",
   "execution_count": 34,
   "metadata": {},
   "outputs": [
    {
     "name": "stdout",
     "output_type": "stream",
     "text": [
      "225864\n",
      "1\n"
     ]
    }
   ],
   "source": [
    "dis_max = [extractTrainningData['dis1'].max(),extractTrainningData['dis2'].max(),extractTrainningData['dis3'].max(),extractTrainningData['dis4'].max(),extractTrainningData['dis5'].max(),extractTrainningData['dis6'].max(),extractTrainningData['dis7'].max(),extractTrainningData['dis8'].max(),extractTrainningData['dis9'].max(),extractTrainningData['dis10'].max(),extractTrainningData['dis11'].max()]\n",
    "dis_min = [extractTrainningData['dis1'].min(),extractTrainningData['dis2'].min(),extractTrainningData['dis3'].min(),extractTrainningData['dis4'].min(),extractTrainningData['dis5'].min(),extractTrainningData['dis6'].min(),extractTrainningData['dis7'].min(),extractTrainningData['dis8'].min(),extractTrainningData['dis9'].min(),extractTrainningData['dis10'].min(),extractTrainningData['dis11'].min()]\n",
    "\n",
    "dis_max = max(dis_max)\n",
    "dis_min = min(dis_min)\n",
    "print(dis_max)\n",
    "print(dis_min)"
   ]
  },
  {
   "cell_type": "code",
   "execution_count": 35,
   "metadata": {},
   "outputs": [
    {
     "name": "stdout",
     "output_type": "stream",
     "text": [
      "[225864.]\n",
      "[1.]\n"
     ]
    },
    {
     "name": "stderr",
     "output_type": "stream",
     "text": [
      "/usr/local/lib/python3.5/dist-packages/scikit_learn-0.20.2-py3.5-linux-x86_64.egg/sklearn/utils/validation.py:595: DataConversionWarning: Data with input dtype int64 was converted to float64 by MinMaxScaler.\n",
      "  warnings.warn(msg, DataConversionWarning)\n"
     ]
    }
   ],
   "source": [
    "tempData = np.asarray([dis_max,dis_min]).reshape(-1,1)\n",
    "dis_min_max_scaler = MinMaxScaler()\n",
    "tempDataScaled = dis_min_max_scaler.fit(tempData)\n",
    "print(dis_min_max_scaler.data_max_)\n",
    "print(dis_min_max_scaler.data_min_)"
   ]
  },
  {
   "cell_type": "code",
   "execution_count": 36,
   "metadata": {},
   "outputs": [],
   "source": [
    "tempData = extractTrainningData['dis1'].values.reshape(-1,1)\n",
    "tempDataScaled = dis_min_max_scaler.transform(tempData)\n",
    "extractTrainningData['dis1']=tempDataScaled\n",
    "\n",
    "tempData = extractTrainningData['dis2'].values.reshape(-1,1)\n",
    "tempDataScaled = dis_min_max_scaler.transform(tempData)\n",
    "extractTrainningData['dis2']=tempDataScaled\n",
    "\n",
    "tempData = extractTrainningData['dis3'].values.reshape(-1,1)\n",
    "tempDataScaled = dis_min_max_scaler.transform(tempData)\n",
    "extractTrainningData['dis3']=tempDataScaled\n",
    "\n",
    "tempData = extractTrainningData['dis4'].values.reshape(-1,1)\n",
    "tempDataScaled = dis_min_max_scaler.transform(tempData)\n",
    "extractTrainningData['dis4']=tempDataScaled\n",
    "\n",
    "tempData = extractTrainningData['dis5'].values.reshape(-1,1)\n",
    "tempDataScaled = dis_min_max_scaler.transform(tempData)\n",
    "extractTrainningData['dis5']=tempDataScaled\n",
    "\n",
    "tempData = extractTrainningData['dis6'].values.reshape(-1,1)\n",
    "tempDataScaled = dis_min_max_scaler.transform(tempData)\n",
    "extractTrainningData['dis6']=tempDataScaled\n",
    "\n",
    "tempData = extractTrainningData['dis7'].values.reshape(-1,1)\n",
    "tempDataScaled = dis_min_max_scaler.transform(tempData)\n",
    "extractTrainningData['dis7']=tempDataScaled\n",
    "\n",
    "tempData = extractTrainningData['dis8'].values.reshape(-1,1)\n",
    "tempDataScaled = dis_min_max_scaler.transform(tempData)\n",
    "extractTrainningData['dis8']=tempDataScaled\n",
    "\n",
    "tempData = extractTrainningData['dis9'].values.reshape(-1,1)\n",
    "tempDataScaled = dis_min_max_scaler.transform(tempData)\n",
    "extractTrainningData['dis9']=tempDataScaled\n",
    "\n",
    "tempData = extractTrainningData['dis10'].values.reshape(-1,1)\n",
    "tempDataScaled = dis_min_max_scaler.transform(tempData)\n",
    "extractTrainningData['dis10']=tempDataScaled\n",
    "\n",
    "tempData = extractTrainningData['dis11'].values.reshape(-1,1)\n",
    "tempDataScaled = dis_min_max_scaler.transform(tempData)\n",
    "extractTrainningData['dis11']=tempDataScaled\n"
   ]
  },
  {
   "cell_type": "code",
   "execution_count": 37,
   "metadata": {},
   "outputs": [
    {
     "name": "stdout",
     "output_type": "stream",
     "text": [
      "72992\n",
      "1\n"
     ]
    }
   ],
   "source": [
    "eta_max = [extractTrainningData['eta1'].max(),extractTrainningData['eta2'].max(),extractTrainningData['eta3'].max(),extractTrainningData['eta4'].max(),extractTrainningData['eta5'].max(),extractTrainningData['eta6'].max(),extractTrainningData['eta7'].max(),extractTrainningData['eta8'].max(),extractTrainningData['eta9'].max(),extractTrainningData['eta10'].max(),extractTrainningData['eta11'].max()]\n",
    "eta_min = [extractTrainningData['eta1'].min(),extractTrainningData['eta2'].min(),extractTrainningData['eta3'].min(),extractTrainningData['eta4'].min(),extractTrainningData['eta5'].min(),extractTrainningData['eta6'].min(),extractTrainningData['eta7'].min(),extractTrainningData['eta8'].min(),extractTrainningData['eta9'].min(),extractTrainningData['eta10'].min(),extractTrainningData['eta11'].min()]\n",
    "\n",
    "eta_max = max(eta_max)\n",
    "eta_min = min(eta_min)\n",
    "print(eta_max)\n",
    "print(eta_min)"
   ]
  },
  {
   "cell_type": "code",
   "execution_count": 38,
   "metadata": {},
   "outputs": [
    {
     "name": "stdout",
     "output_type": "stream",
     "text": [
      "[72992.]\n",
      "[1.]\n"
     ]
    },
    {
     "name": "stderr",
     "output_type": "stream",
     "text": [
      "/usr/local/lib/python3.5/dist-packages/scikit_learn-0.20.2-py3.5-linux-x86_64.egg/sklearn/utils/validation.py:595: DataConversionWarning: Data with input dtype int64 was converted to float64 by MinMaxScaler.\n",
      "  warnings.warn(msg, DataConversionWarning)\n"
     ]
    }
   ],
   "source": [
    "tempData = np.asarray([eta_max,eta_min]).reshape(-1,1)\n",
    "eta_min_max_scaler = MinMaxScaler()\n",
    "tempDataScaled = eta_min_max_scaler.fit(tempData)\n",
    "print(eta_min_max_scaler.data_max_)\n",
    "print(eta_min_max_scaler.data_min_)"
   ]
  },
  {
   "cell_type": "code",
   "execution_count": 39,
   "metadata": {},
   "outputs": [],
   "source": [
    "tempData = extractTrainningData['eta1'].values.reshape(-1,1)\n",
    "tempDataScaled = eta_min_max_scaler.transform(tempData)\n",
    "extractTrainningData['eta1']=tempDataScaled\n",
    "\n",
    "tempData = extractTrainningData['eta2'].values.reshape(-1,1)\n",
    "tempDataScaled = eta_min_max_scaler.transform(tempData)\n",
    "extractTrainningData['eta2']=tempDataScaled\n",
    "\n",
    "tempData = extractTrainningData['eta3'].values.reshape(-1,1)\n",
    "tempDataScaled = eta_min_max_scaler.transform(tempData)\n",
    "extractTrainningData['eta3']=tempDataScaled\n",
    "\n",
    "tempData = extractTrainningData['eta4'].values.reshape(-1,1)\n",
    "tempDataScaled = eta_min_max_scaler.transform(tempData)\n",
    "extractTrainningData['eta4']=tempDataScaled\n",
    "\n",
    "tempData = extractTrainningData['eta5'].values.reshape(-1,1)\n",
    "tempDataScaled = eta_min_max_scaler.transform(tempData)\n",
    "extractTrainningData['eta5']=tempDataScaled\n",
    "\n",
    "tempData = extractTrainningData['eta6'].values.reshape(-1,1)\n",
    "tempDataScaled = eta_min_max_scaler.transform(tempData)\n",
    "extractTrainningData['eta6']=tempDataScaled\n",
    "\n",
    "tempData = extractTrainningData['eta7'].values.reshape(-1,1)\n",
    "tempDataScaled = eta_min_max_scaler.transform(tempData)\n",
    "extractTrainningData['eta7']=tempDataScaled\n",
    "\n",
    "tempData = extractTrainningData['eta8'].values.reshape(-1,1)\n",
    "tempDataScaled = eta_min_max_scaler.transform(tempData)\n",
    "extractTrainningData['eta8']=tempDataScaled\n",
    "\n",
    "tempData = extractTrainningData['eta9'].values.reshape(-1,1)\n",
    "tempDataScaled = eta_min_max_scaler.transform(tempData)\n",
    "extractTrainningData['eta9']=tempDataScaled\n",
    "\n",
    "tempData = extractTrainningData['eta10'].values.reshape(-1,1)\n",
    "tempDataScaled = eta_min_max_scaler.transform(tempData)\n",
    "extractTrainningData['eta10']=tempDataScaled\n",
    "\n",
    "tempData = extractTrainningData['eta11'].values.reshape(-1,1)\n",
    "tempDataScaled = eta_min_max_scaler.transform(tempData)\n",
    "extractTrainningData['eta11']=tempDataScaled"
   ]
  },
  {
   "cell_type": "code",
   "execution_count": 40,
   "metadata": {},
   "outputs": [
    {
     "name": "stdout",
     "output_type": "stream",
     "text": [
      "92300\n",
      "0\n"
     ]
    }
   ],
   "source": [
    "price_max = [extractTrainningData['price1'].max(),extractTrainningData['price2'].max(),extractTrainningData['price3'].max(),extractTrainningData['price4'].max(),extractTrainningData['price5'].max(),extractTrainningData['price6'].max(),extractTrainningData['price7'].max(),extractTrainningData['price8'].max(),extractTrainningData['price9'].max(),extractTrainningData['price10'].max(),extractTrainningData['price11'].max()]\n",
    "price_min = [extractTrainningData['price1'].min(),extractTrainningData['price2'].min(),extractTrainningData['price3'].min(),extractTrainningData['price4'].min(),extractTrainningData['price5'].min(),extractTrainningData['price6'].min(),extractTrainningData['price7'].min(),extractTrainningData['price8'].min(),extractTrainningData['price9'].min(),extractTrainningData['price10'].min(),extractTrainningData['price11'].min()]\n",
    "\n",
    "price_max = max(price_max)\n",
    "price_min = min(price_min)\n",
    "print(price_max)\n",
    "print(price_min)"
   ]
  },
  {
   "cell_type": "code",
   "execution_count": 41,
   "metadata": {},
   "outputs": [
    {
     "name": "stdout",
     "output_type": "stream",
     "text": [
      "[92300.]\n",
      "[0.]\n"
     ]
    },
    {
     "name": "stderr",
     "output_type": "stream",
     "text": [
      "/usr/local/lib/python3.5/dist-packages/scikit_learn-0.20.2-py3.5-linux-x86_64.egg/sklearn/utils/validation.py:595: DataConversionWarning: Data with input dtype int64 was converted to float64 by MinMaxScaler.\n",
      "  warnings.warn(msg, DataConversionWarning)\n"
     ]
    }
   ],
   "source": [
    "tempData = np.asarray([price_max,price_min]).reshape(-1,1)\n",
    "price_min_max_scaler = MinMaxScaler()\n",
    "tempDataScaled = price_min_max_scaler.fit(tempData)\n",
    "print(price_min_max_scaler.data_max_)\n",
    "print(price_min_max_scaler.data_min_)"
   ]
  },
  {
   "cell_type": "code",
   "execution_count": 42,
   "metadata": {},
   "outputs": [],
   "source": [
    "\n",
    "\n",
    "tempData = extractTrainningData['price1'].values.reshape(-1,1)\n",
    "tempDataScaled = price_min_max_scaler.transform(tempData)\n",
    "extractTrainningData['price1']=tempDataScaled\n",
    "\n",
    "tempData = extractTrainningData['price2'].values.reshape(-1,1)\n",
    "tempDataScaled = price_min_max_scaler.transform(tempData)\n",
    "extractTrainningData['price2']=tempDataScaled\n",
    "\n",
    "tempData = extractTrainningData['price3'].values.reshape(-1,1)\n",
    "tempDataScaled = price_min_max_scaler.transform(tempData)\n",
    "extractTrainningData['price3']=tempDataScaled\n",
    "\n",
    "tempData = extractTrainningData['price4'].values.reshape(-1,1)\n",
    "tempDataScaled = price_min_max_scaler.transform(tempData)\n",
    "extractTrainningData['price4']=tempDataScaled\n",
    "\n",
    "tempData = extractTrainningData['price5'].values.reshape(-1,1)\n",
    "tempDataScaled = price_min_max_scaler.transform(tempData)\n",
    "extractTrainningData['price5']=tempDataScaled\n",
    "\n",
    "tempData = extractTrainningData['price6'].values.reshape(-1,1)\n",
    "tempDataScaled = price_min_max_scaler.transform(tempData)\n",
    "extractTrainningData['price6']=tempDataScaled\n",
    "\n",
    "tempData = extractTrainningData['price7'].values.reshape(-1,1)\n",
    "tempDataScaled = price_min_max_scaler.transform(tempData)\n",
    "extractTrainningData['price7']=tempDataScaled\n",
    "\n",
    "tempData = extractTrainningData['price8'].values.reshape(-1,1)\n",
    "tempDataScaled = price_min_max_scaler.transform(tempData)\n",
    "extractTrainningData['price8']=tempDataScaled\n",
    "\n",
    "tempData = extractTrainningData['price9'].values.reshape(-1,1)\n",
    "tempDataScaled = price_min_max_scaler.transform(tempData)\n",
    "extractTrainningData['price9']=tempDataScaled\n",
    "\n",
    "tempData = extractTrainningData['price10'].values.reshape(-1,1)\n",
    "tempDataScaled = price_min_max_scaler.transform(tempData)\n",
    "extractTrainningData['price10']=tempDataScaled\n",
    "\n",
    "tempData = extractTrainningData['price11'].values.reshape(-1,1)\n",
    "tempDataScaled = price_min_max_scaler.transform(tempData)\n",
    "extractTrainningData['price11']=tempDataScaled"
   ]
  },
  {
   "cell_type": "markdown",
   "metadata": {},
   "source": [
    "## Save Data"
   ]
  },
  {
   "cell_type": "code",
   "execution_count": 43,
   "metadata": {},
   "outputs": [
    {
     "name": "stdout",
     "output_type": "stream",
     "text": [
      "   Monday  Tuesday  Wednesday  Thursday  Friday  Saturday  Sunday    d_time  \\\n",
      "0       0        0          0         0       0         1       0  0.465716   \n",
      "1       0        0          0         0       0         1       0  0.511146   \n",
      "2       0        0          0         0       0         1       0  0.994085   \n",
      "3       0        0          0         0       0         1       0  0.571485   \n",
      "4       0        0          0         0       0         1       0  0.692590   \n",
      "\n",
      "        o_x       o_y     ...      p57  p58  p59  p60  p61  p62  p63  p64  \\\n",
      "0  0.609890  0.410596     ...      0.0  0.0  0.0  0.0  0.0  0.0  0.0  0.0   \n",
      "1  0.467033  0.284768     ...      0.0  0.0  0.0  0.0  1.0  0.0  0.0  0.0   \n",
      "2  0.532967  0.278146     ...      0.0  0.0  0.0  1.0  0.0  0.0  0.0  0.0   \n",
      "3  0.450549  0.403974     ...      0.0  0.0  0.0  0.0  0.0  0.0  0.0  0.0   \n",
      "4  0.384615  0.304636     ...      0.0  0.0  0.0  1.0  0.0  0.0  0.0  0.0   \n",
      "\n",
      "   p65  click_mode  \n",
      "0  0.0           1  \n",
      "1  0.0           2  \n",
      "2  0.0           1  \n",
      "3  0.0           9  \n",
      "4  0.0           1  \n",
      "\n",
      "[5 rows x 123 columns]\n",
      "(453336, 123)\n"
     ]
    }
   ],
   "source": [
    "print (extractTrainningData.head())\n",
    "print (extractTrainningData.shape)\n",
    "extractTrainningData.to_csv(path2+'train_normalize.csv',index=False)"
   ]
  },
  {
   "cell_type": "code",
   "execution_count": null,
   "metadata": {},
   "outputs": [],
   "source": []
  },
  {
   "cell_type": "markdown",
   "metadata": {},
   "source": [
    "# Normalize Testing Data"
   ]
  },
  {
   "cell_type": "code",
   "execution_count": 44,
   "metadata": {},
   "outputs": [
    {
     "name": "stdout",
     "output_type": "stream",
     "text": [
      "      sid  Monday  Tuesday  Wednesday  Thursday  Friday  Saturday  Sunday  \\\n",
      "0  420123       0        0          0         0       0         1       0   \n",
      "1  420125       0        0          0         0       0         1       0   \n",
      "2  420127       0        0          0         0       0         1       0   \n",
      "3  420129       0        0          0         0       0         1       0   \n",
      "4  420134       0        0          0         0       0         1       0   \n",
      "\n",
      "    d_time     o_x ...   p56  p57  p58  p59  p60  p61  p62  p63  p64  p65  \n",
      "0  66663.0  116.28 ...   0.0  0.0  0.0  0.0  0.0  0.0  0.0  0.0  0.0  0.0  \n",
      "1  78213.0  116.40 ...   0.0  0.0  0.0  0.0  0.0  0.0  0.0  0.0  0.0  0.0  \n",
      "2  66503.0  116.28 ...   0.0  0.0  0.0  0.0  0.0  0.0  0.0  0.0  0.0  0.0  \n",
      "3  67064.0  116.28 ...   0.0  0.0  0.0  0.0  0.0  0.0  0.0  0.0  0.0  0.0  \n",
      "4  64901.0  116.46 ...   0.0  0.0  0.0  0.0  1.0  0.0  0.0  0.0  0.0  0.0  \n",
      "\n",
      "[5 rows x 123 columns]\n",
      "(94358, 123)\n"
     ]
    }
   ],
   "source": [
    "#Loading test_extract.csv Data\n",
    "extractTestingData = pd.read_csv(path+'test_extract.csv',encoding = 'utf8')\n",
    "print (extractTestingData.head())\n",
    "print (extractTestingData.shape)"
   ]
  },
  {
   "cell_type": "markdown",
   "metadata": {},
   "source": [
    "## d_time Normalize"
   ]
  },
  {
   "cell_type": "code",
   "execution_count": 45,
   "metadata": {},
   "outputs": [
    {
     "name": "stdout",
     "output_type": "stream",
     "text": [
      "[86396.]\n",
      "[0.]\n"
     ]
    }
   ],
   "source": [
    "tempData = extractTestingData['d_time'].values.reshape(-1,1)\n",
    "tempDataScaled = d_time_min_max_scaler.transform(tempData)\n",
    "extractTestingData['d_time'] = tempDataScaled\n",
    "print(d_time_min_max_scaler.data_max_)\n",
    "print(d_time_min_max_scaler.data_min_)"
   ]
  },
  {
   "cell_type": "markdown",
   "metadata": {},
   "source": [
    "## o_x Normalize"
   ]
  },
  {
   "cell_type": "code",
   "execution_count": 46,
   "metadata": {},
   "outputs": [
    {
     "name": "stdout",
     "output_type": "stream",
     "text": [
      "[117.29]\n",
      "[115.47]\n"
     ]
    }
   ],
   "source": [
    "tempData = extractTestingData['o_x'].values.reshape(-1,1)\n",
    "tempDataScaled = o_x_min_max_scaler.transform(tempData)\n",
    "extractTestingData['o_x'] = tempDataScaled\n",
    "print(o_x_min_max_scaler.data_max_)\n",
    "print(o_x_min_max_scaler.data_min_)"
   ]
  },
  {
   "cell_type": "markdown",
   "metadata": {},
   "source": [
    "## o_y Normalize"
   ]
  },
  {
   "cell_type": "code",
   "execution_count": 47,
   "metadata": {},
   "outputs": [
    {
     "name": "stdout",
     "output_type": "stream",
     "text": [
      "[40.97]\n",
      "[39.46]\n"
     ]
    }
   ],
   "source": [
    "tempData = extractTestingData['o_y'].values.reshape(-1,1)\n",
    "tempDataScaled = o_y_min_max_scaler.transform(tempData)\n",
    "extractTestingData['o_y'] = tempDataScaled\n",
    "print(o_y_min_max_scaler.data_max_)\n",
    "print(o_y_min_max_scaler.data_min_)"
   ]
  },
  {
   "cell_type": "markdown",
   "metadata": {},
   "source": [
    "## d_x Normalize"
   ]
  },
  {
   "cell_type": "code",
   "execution_count": 48,
   "metadata": {},
   "outputs": [
    {
     "name": "stdout",
     "output_type": "stream",
     "text": [
      "[117.33]\n",
      "[115.48]\n"
     ]
    }
   ],
   "source": [
    "tempData = extractTestingData['d_x'].values.reshape(-1,1)\n",
    "tempDataScaled = d_x_min_max_scaler.transform(tempData)\n",
    "extractTestingData['d_x'] = tempDataScaled\n",
    "print(d_x_min_max_scaler.data_max_)\n",
    "print(d_x_min_max_scaler.data_min_)"
   ]
  },
  {
   "cell_type": "markdown",
   "metadata": {},
   "source": [
    "## d_y Normalize"
   ]
  },
  {
   "cell_type": "code",
   "execution_count": 49,
   "metadata": {},
   "outputs": [
    {
     "name": "stdout",
     "output_type": "stream",
     "text": [
      "[40.96]\n",
      "[39.46]\n"
     ]
    }
   ],
   "source": [
    "tempData = extractTestingData['d_y'].values.reshape(-1,1)\n",
    "tempDataScaled = d_y_min_max_scaler.transform(tempData)\n",
    "extractTestingData['d_y'] = tempDataScaled\n",
    "print(d_y_min_max_scaler.data_max_)\n",
    "print(d_y_min_max_scaler.data_min_)"
   ]
  },
  {
   "cell_type": "markdown",
   "metadata": {},
   "source": [
    "## plan Normalize"
   ]
  },
  {
   "cell_type": "code",
   "execution_count": 50,
   "metadata": {},
   "outputs": [],
   "source": [
    "tempData = extractTestingData['dis1'].values.reshape(-1,1)\n",
    "tempDataScaled = dis_min_max_scaler.transform(tempData)\n",
    "extractTestingData['dis1']=tempDataScaled\n",
    "\n",
    "tempData = extractTestingData['dis2'].values.reshape(-1,1)\n",
    "tempDataScaled = dis_min_max_scaler.transform(tempData)\n",
    "extractTestingData['dis2']=tempDataScaled\n",
    "\n",
    "tempData = extractTestingData['dis3'].values.reshape(-1,1)\n",
    "tempDataScaled = dis_min_max_scaler.transform(tempData)\n",
    "extractTestingData['dis3']=tempDataScaled\n",
    "\n",
    "tempData = extractTestingData['dis4'].values.reshape(-1,1)\n",
    "tempDataScaled = dis_min_max_scaler.transform(tempData)\n",
    "extractTestingData['dis4']=tempDataScaled\n",
    "\n",
    "tempData = extractTestingData['dis5'].values.reshape(-1,1)\n",
    "tempDataScaled = dis_min_max_scaler.transform(tempData)\n",
    "extractTestingData['dis5']=tempDataScaled\n",
    "\n",
    "tempData = extractTestingData['dis6'].values.reshape(-1,1)\n",
    "tempDataScaled = dis_min_max_scaler.transform(tempData)\n",
    "extractTestingData['dis6']=tempDataScaled\n",
    "\n",
    "tempData = extractTestingData['dis7'].values.reshape(-1,1)\n",
    "tempDataScaled = dis_min_max_scaler.transform(tempData)\n",
    "extractTestingData['dis7']=tempDataScaled\n",
    "\n",
    "tempData = extractTestingData['dis8'].values.reshape(-1,1)\n",
    "tempDataScaled = dis_min_max_scaler.transform(tempData)\n",
    "extractTestingData['dis8']=tempDataScaled\n",
    "\n",
    "tempData = extractTestingData['dis9'].values.reshape(-1,1)\n",
    "tempDataScaled = dis_min_max_scaler.transform(tempData)\n",
    "extractTestingData['dis9']=tempDataScaled\n",
    "\n",
    "tempData = extractTestingData['dis10'].values.reshape(-1,1)\n",
    "tempDataScaled = dis_min_max_scaler.transform(tempData)\n",
    "extractTestingData['dis10']=tempDataScaled\n",
    "\n",
    "tempData = extractTestingData['dis11'].values.reshape(-1,1)\n",
    "tempDataScaled = dis_min_max_scaler.transform(tempData)\n",
    "extractTestingData['dis11']=tempDataScaled"
   ]
  },
  {
   "cell_type": "code",
   "execution_count": 51,
   "metadata": {},
   "outputs": [],
   "source": [
    "tempData = extractTestingData['eta1'].values.reshape(-1,1)\n",
    "tempDataScaled = eta_min_max_scaler.transform(tempData)\n",
    "extractTestingData['eta1']=tempDataScaled\n",
    "\n",
    "tempData = extractTestingData['eta2'].values.reshape(-1,1)\n",
    "tempDataScaled = eta_min_max_scaler.transform(tempData)\n",
    "extractTestingData['eta2']=tempDataScaled\n",
    "\n",
    "tempData = extractTestingData['eta3'].values.reshape(-1,1)\n",
    "tempDataScaled = eta_min_max_scaler.transform(tempData)\n",
    "extractTestingData['eta3']=tempDataScaled\n",
    "\n",
    "tempData = extractTestingData['eta4'].values.reshape(-1,1)\n",
    "tempDataScaled = eta_min_max_scaler.transform(tempData)\n",
    "extractTestingData['eta4']=tempDataScaled\n",
    "\n",
    "tempData = extractTestingData['eta5'].values.reshape(-1,1)\n",
    "tempDataScaled = eta_min_max_scaler.transform(tempData)\n",
    "extractTestingData['eta5']=tempDataScaled\n",
    "\n",
    "tempData = extractTestingData['eta6'].values.reshape(-1,1)\n",
    "tempDataScaled = eta_min_max_scaler.transform(tempData)\n",
    "extractTestingData['eta6']=tempDataScaled\n",
    "\n",
    "tempData = extractTestingData['eta7'].values.reshape(-1,1)\n",
    "tempDataScaled = eta_min_max_scaler.transform(tempData)\n",
    "extractTestingData['eta7']=tempDataScaled\n",
    "\n",
    "tempData = extractTestingData['eta8'].values.reshape(-1,1)\n",
    "tempDataScaled = eta_min_max_scaler.transform(tempData)\n",
    "extractTestingData['eta8']=tempDataScaled\n",
    "\n",
    "tempData = extractTestingData['eta9'].values.reshape(-1,1)\n",
    "tempDataScaled = eta_min_max_scaler.transform(tempData)\n",
    "extractTestingData['eta9']=tempDataScaled\n",
    "\n",
    "tempData = extractTestingData['eta10'].values.reshape(-1,1)\n",
    "tempDataScaled = eta_min_max_scaler.transform(tempData)\n",
    "extractTestingData['eta10']=tempDataScaled\n",
    "\n",
    "tempData = extractTestingData['eta11'].values.reshape(-1,1)\n",
    "tempDataScaled = eta_min_max_scaler.transform(tempData)\n",
    "extractTestingData['eta11']=tempDataScaled"
   ]
  },
  {
   "cell_type": "code",
   "execution_count": 52,
   "metadata": {},
   "outputs": [],
   "source": [
    "tempData = extractTestingData['price1'].values.reshape(-1,1)\n",
    "tempDataScaled = price_min_max_scaler.transform(tempData)\n",
    "extractTestingData['price1']=tempDataScaled\n",
    "\n",
    "tempData = extractTestingData['price2'].values.reshape(-1,1)\n",
    "tempDataScaled = price_min_max_scaler.transform(tempData)\n",
    "extractTestingData['price2']=tempDataScaled\n",
    "\n",
    "tempData = extractTestingData['price3'].values.reshape(-1,1)\n",
    "tempDataScaled = price_min_max_scaler.transform(tempData)\n",
    "extractTestingData['price3']=tempDataScaled\n",
    "\n",
    "tempData = extractTestingData['price4'].values.reshape(-1,1)\n",
    "tempDataScaled = price_min_max_scaler.transform(tempData)\n",
    "extractTestingData['price4']=tempDataScaled\n",
    "\n",
    "tempData = extractTestingData['price5'].values.reshape(-1,1)\n",
    "tempDataScaled = price_min_max_scaler.transform(tempData)\n",
    "extractTestingData['price5']=tempDataScaled\n",
    "\n",
    "tempData = extractTestingData['price6'].values.reshape(-1,1)\n",
    "tempDataScaled = price_min_max_scaler.transform(tempData)\n",
    "extractTestingData['price6']=tempDataScaled\n",
    "\n",
    "tempData = extractTestingData['price7'].values.reshape(-1,1)\n",
    "tempDataScaled = price_min_max_scaler.transform(tempData)\n",
    "extractTestingData['price7']=tempDataScaled\n",
    "\n",
    "tempData = extractTestingData['price8'].values.reshape(-1,1)\n",
    "tempDataScaled = price_min_max_scaler.transform(tempData)\n",
    "extractTestingData['price8']=tempDataScaled\n",
    "\n",
    "tempData = extractTestingData['price9'].values.reshape(-1,1)\n",
    "tempDataScaled = price_min_max_scaler.transform(tempData)\n",
    "extractTestingData['price9']=tempDataScaled\n",
    "\n",
    "tempData = extractTestingData['price10'].values.reshape(-1,1)\n",
    "tempDataScaled = price_min_max_scaler.transform(tempData)\n",
    "extractTestingData['price10']=tempDataScaled\n",
    "\n",
    "tempData = extractTestingData['price11'].values.reshape(-1,1)\n",
    "tempDataScaled = price_min_max_scaler.transform(tempData)\n",
    "extractTestingData['price11']=tempDataScaled"
   ]
  },
  {
   "cell_type": "code",
   "execution_count": 53,
   "metadata": {},
   "outputs": [],
   "source": [
    "extractTestingDataSID = extractTestingData[['sid']].copy()\n",
    "extractTestingData.drop(columns = \"sid\",inplace=True)\n",
    "extractTestingData = extractTestingData.where(extractTestingData <= 1, 1)\n",
    "extractTestingData = extractTestingData.where(extractTestingData >= 0, 0)\n",
    "extractTestingData = extractTestingDataSID.join(extractTestingData)"
   ]
  },
  {
   "cell_type": "markdown",
   "metadata": {},
   "source": [
    "## Save Data"
   ]
  },
  {
   "cell_type": "code",
   "execution_count": 54,
   "metadata": {},
   "outputs": [
    {
     "name": "stdout",
     "output_type": "stream",
     "text": [
      "      sid  Monday  Tuesday  Wednesday  Thursday  Friday  Saturday  Sunday  \\\n",
      "0  420123       0        0          0         0       0         1       0   \n",
      "1  420125       0        0          0         0       0         1       0   \n",
      "2  420127       0        0          0         0       0         1       0   \n",
      "3  420129       0        0          0         0       0         1       0   \n",
      "4  420134       0        0          0         0       0         1       0   \n",
      "\n",
      "     d_time       o_x ...   p56  p57  p58  p59  p60  p61  p62  p63  p64  p65  \n",
      "0  0.771598  0.445055 ...   0.0  0.0  0.0  0.0  0.0  0.0  0.0  0.0  0.0  0.0  \n",
      "1  0.905285  0.510989 ...   0.0  0.0  0.0  0.0  0.0  0.0  0.0  0.0  0.0  0.0  \n",
      "2  0.769746  0.445055 ...   0.0  0.0  0.0  0.0  0.0  0.0  0.0  0.0  0.0  0.0  \n",
      "3  0.776240  0.445055 ...   0.0  0.0  0.0  0.0  0.0  0.0  0.0  0.0  0.0  0.0  \n",
      "4  0.751204  0.543956 ...   0.0  0.0  0.0  0.0  1.0  0.0  0.0  0.0  0.0  0.0  \n",
      "\n",
      "[5 rows x 123 columns]\n",
      "(94358, 123)\n"
     ]
    }
   ],
   "source": [
    "extractTestingData.to_csv(path2+'test_normalize.csv',index=False)\n",
    "print(extractTestingData.head())\n",
    "print(extractTestingData.shape)"
   ]
  },
  {
   "cell_type": "code",
   "execution_count": null,
   "metadata": {},
   "outputs": [],
   "source": []
  }
 ],
 "metadata": {
  "kernelspec": {
   "display_name": "Python 3",
   "language": "python",
   "name": "python3"
  },
  "language_info": {
   "codemirror_mode": {
    "name": "ipython",
    "version": 3
   },
   "file_extension": ".py",
   "mimetype": "text/x-python",
   "name": "python",
   "nbconvert_exporter": "python",
   "pygments_lexer": "ipython3",
   "version": "3.5.2"
  }
 },
 "nbformat": 4,
 "nbformat_minor": 2
}
